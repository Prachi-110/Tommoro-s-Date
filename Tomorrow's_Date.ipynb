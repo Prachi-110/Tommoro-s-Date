{
  "nbformat": 4,
  "nbformat_minor": 0,
  "metadata": {
    "colab": {
      "name": "Tomorrow's Date",
      "provenance": [],
      "authorship_tag": "ABX9TyPx+iYeW5TccDxj94pXskp4",
      "include_colab_link": true
    },
    "kernelspec": {
      "name": "python3",
      "display_name": "Python 3"
    }
  },
  "cells": [
    {
      "cell_type": "markdown",
      "metadata": {
        "id": "view-in-github",
        "colab_type": "text"
      },
      "source": [
        "<a href=\"https://colab.research.google.com/github/Prachi-110/Tommorow-Date/blob/main/Tomorrow's_Date.ipynb\" target=\"_parent\"><img src=\"https://colab.research.google.com/assets/colab-badge.svg\" alt=\"Open In Colab\"/></a>"
      ]
    },
    {
      "cell_type": "markdown",
      "source": [
        "### Tommor's Date\n",
        "\n",
        "The function tomorrows_date, returns a string containing tomorrow's date. Assume that there are 12 months in a year, and 30 days in each month. Also, assume leap years don't exist. The function's input is of the format 'MM/DD/YYYY', where each letter corresponds to one digit. The output will be of the same format, but leading zeroes don't matter.\n",
        "\n",
        "Examples:\n",
        "\n",
        "Function Call | Return Value\n",
        ":-- | :-- \n",
        "`tomorrows_date('12/30/1999')` | `'1/1/2000'` or `'01/01/2000'`\n",
        "`tomorrows_date('01/30/1996')` | `'2/1/1996'` or `'02/01/1996'`\n",
        "`tomorrows_date('11/20/2021')` | `'11/21/2021'`\n"
      ],
      "metadata": {
        "id": "5vO9sixvMGb_"
      }
    },
    {
      "cell_type": "code",
      "source": [
        "import string\n",
        "def tomorrows_date(today):\n",
        "  month=int(today[0:2])\n",
        "  day=int(today[3:5])\n",
        "  year=int(today[6:])\n",
        "  if month==12 and day==30:\n",
        "    return '1/1/'+str(year+1)\n",
        "  elif day==30:\n",
        "    return str(month+1)+'/'+'1'+'/'+str(year)\n",
        "  else:\n",
        "    return str(month)+'/'+str(day+1)+'/'+str(year)\n",
        "  return tomorrow\n",
        "\n",
        "\n",
        "  # Test cases\n",
        "print(tomorrows_date('12/30/1999'))\n",
        "print(tomorrows_date('01/30/1996'))\n",
        "print(tomorrows_date('11/20/2021'))"
      ],
      "metadata": {
        "colab": {
          "base_uri": "https://localhost:8080/"
        },
        "id": "bxqgwXv_NsHn",
        "outputId": "04741883-516f-401e-bbc9-4f334f2b8b47"
      },
      "execution_count": 2,
      "outputs": [
        {
          "output_type": "stream",
          "name": "stdout",
          "text": [
            "1/1/2000\n",
            "2/1/1996\n",
            "11/21/2021\n"
          ]
        }
      ]
    }
  ]
}